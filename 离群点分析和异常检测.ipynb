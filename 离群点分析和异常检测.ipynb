{
 "cells": [
  {
   "cell_type": "markdown",
   "metadata": {},
   "source": [
    "# 离群点分析与异常检测"
   ]
  },
  {
   "cell_type": "markdown",
   "metadata": {},
   "source": [
    "- 姓名：郝家辉\n",
    "- 学号：3220190804\n",
    "- 项目地址：https://github.com/AdamFocus/OutlierDetection"
   ]
  },
  {
   "cell_type": "markdown",
   "metadata": {},
   "source": [
    "### 选择abalone和skin 两个数据集，对其使用多种算法进行离群点分析，并对比找出最优算法\n",
    "### 报告描述整个流程，具体的python代码见outlier.py和analyse.py"
   ]
  },
  {
   "cell_type": "markdown",
   "metadata": {},
   "source": [
    "## 1.导入相关库"
   ]
  },
  {
   "cell_type": "code",
   "execution_count": 1,
   "metadata": {},
   "outputs": [],
   "source": [
    "from __future__ import division\n",
    "from __future__ import print_function\n",
    "\n",
    "import pandas as pd\n",
    "import os\n",
    "import sys\n",
    "\n",
    "import numpy as np\n",
    "from numpy import percentile\n",
    "import matplotlib.pyplot as plt\n",
    "import matplotlib.font_manager\n",
    "\n",
    "import pickle\n",
    "from tqdm import tqdm\n",
    "import warnings\n",
    "warnings.filterwarnings(\"ignore\")"
   ]
  },
  {
   "cell_type": "code",
   "execution_count": 2,
   "metadata": {},
   "outputs": [],
   "source": [
    "sys.path.append(\n",
    "    os.path.abspath(os.path.join(os.path.dirname(\"__file__\"), '..')))"
   ]
  },
  {
   "cell_type": "markdown",
   "metadata": {},
   "source": [
    "### 使用pyod中的离群点分析算法"
   ]
  },
  {
   "cell_type": "code",
   "execution_count": 3,
   "metadata": {},
   "outputs": [],
   "source": [
    "from pyod.models.abod import ABOD\n",
    "from pyod.models.cblof import CBLOF\n",
    "from pyod.models.feature_bagging import FeatureBagging\n",
    "from pyod.models.hbos import HBOS\n",
    "from pyod.models.iforest import IForest\n",
    "from pyod.models.knn import KNN\n",
    "from pyod.models.lof import LOF\n",
    "from pyod.models.mcd import MCD\n",
    "from pyod.models.ocsvm import OCSVM\n",
    "from pyod.models.pca import PCA\n",
    "from pyod.models.lscp import LSCP"
   ]
  },
  {
   "cell_type": "markdown",
   "metadata": {},
   "source": [
    "## 2.数据集分析和预处理"
   ]
  },
  {
   "cell_type": "markdown",
   "metadata": {},
   "source": [
    "**分别查看两个数据集：**\n",
    "1. abalone数据集\n",
    "\n",
    "benchmark数据集中包含以下项：\n",
    "- point.id\n",
    "- motherset\n",
    "- origin,original.label\n",
    "- diff.score\n",
    "- ground.truth\n",
    "- V1,V2,V3,V4,V5,V6,V7\n",
    "2. skin数据集\n",
    "\n",
    "benchmark数据集中包含以下项：\n",
    "- point.id\n",
    "- motherset\n",
    "- origin,original.label\n",
    "- diff.score\n",
    "- ground.truth\n",
    "- R,G,B\n",
    "\n",
    "**去除point.id/motherset/origin/origin.label/diff.score**"
   ]
  },
  {
   "cell_type": "markdown",
   "metadata": {},
   "source": [
    "### 数据处理如下"
   ]
  },
  {
   "cell_type": "code",
   "execution_count": 4,
   "metadata": {},
   "outputs": [],
   "source": [
    "def pre_process(data):\n",
    "\n",
    "    data.drop(['point.id', 'motherset', 'origin'], axis=1, inplace=True)\n",
    "    data['ground.truth'] = data['ground.truth'].map({'nominal': 0, 'anomaly': 1})\n",
    "\n",
    "    label = pd.get_dummies(data['original.label'], prefix='original.label')\n",
    "    data.drop('original.label', inplace=True, axis=1)\n",
    "\n",
    "    data = pd.concat((data, label), axis=1)\n",
    "\n",
    "    y = data['ground.truth']\n",
    "    X = data.drop('ground.truth', axis=1)\n",
    "    \n",
    "    return X, y"
   ]
  },
  {
   "cell_type": "markdown",
   "metadata": {},
   "source": [
    "## 3.定义分类器"
   ]
  },
  {
   "cell_type": "markdown",
   "metadata": {},
   "source": [
    "使用**ABOD,CBLOF,FB,HBOS,IF,KNN,AKNN,LOF,MCD,OCSVM,PCA**等方法定义分类器\n",
    "\n",
    "设置离群点的分离度outliers_fraction"
   ]
  },
  {
   "cell_type": "code",
   "execution_count": 5,
   "metadata": {},
   "outputs": [],
   "source": [
    "def load_classifiers(outliers_fraction):\n",
    "    outliers_fraction = min(0.5, outliers_fraction)\n",
    "    random_state = np.random.RandomState(42)\n",
    "    \n",
    "    classifiers = {\n",
    "    'Angle-based Outlier Detector (ABOD)':\n",
    "        ABOD(contamination=outliers_fraction),\n",
    "    'Cluster-based Local Outlier Factor (CBLOF)':\n",
    "        CBLOF(contamination=outliers_fraction,\n",
    "              check_estimator=False, random_state=random_state),\n",
    "    'Feature Bagging':\n",
    "        FeatureBagging(LOF(n_neighbors=35),\n",
    "                       contamination=outliers_fraction,\n",
    "                       random_state=random_state),\n",
    "    'Histogram-base Outlier Detection (HBOS)': HBOS(\n",
    "        contamination=outliers_fraction),\n",
    "    'Isolation Forest': IForest(contamination=outliers_fraction,\n",
    "                        random_state=random_state, behaviour=\"new\"),\n",
    "    'K Nearest Neighbors (KNN)': KNN(\n",
    "        contamination=outliers_fraction),\n",
    "    'Average KNN': KNN(method='mean',\n",
    "                   contamination=outliers_fraction),\n",
    "    'Local Outlier Factor (LOF)':\n",
    "        LOF(n_neighbors=35, contamination=outliers_fraction),\n",
    "    'Minimum Covariance Determinant (MCD)': MCD(\n",
    "        contamination=outliers_fraction, random_state=random_state),\n",
    "    'One-class SVM (OCSVM)': OCSVM(contamination=outliers_fraction),\n",
    "    'Principal Component Analysis (PCA)': PCA(\n",
    "        contamination=outliers_fraction, random_state=random_state)\n",
    "    }\n",
    "    return classifiers"
   ]
  },
  {
   "cell_type": "markdown",
   "metadata": {},
   "source": [
    "## 4. 训练和测试"
   ]
  },
  {
   "cell_type": "markdown",
   "metadata": {},
   "source": [
    "将outlier.py放于数据集文件夹中，并运行，代码细节如下：\n",
    "\n",
    "1. 读取benchmarks文件夹中的所有csv文件\n",
    "2. 为每个csv文件分别训练上面提到的多种分类器\n",
    "3. 将每个分类器的roc_auc_score、f1_score、precision_score、recall_score保存到result文件夹中，方便接下来进行分析"
   ]
  },
  {
   "cell_type": "code",
   "execution_count": null,
   "metadata": {},
   "outputs": [],
   "source": [
    "PATH = \"benchmarks\"\n",
    "fns = os.listdir(PATH)\n",
    "\n",
    "if not os.path.exists('result'):\n",
    "    os.mkdir('result')"
   ]
  },
  {
   "cell_type": "code",
   "execution_count": null,
   "metadata": {},
   "outputs": [],
   "source": [
    "for i in tqdm(range(len(fns))):\n",
    "    fn = fns[i]\n",
    "    \n",
    "    if os.path.exists('result/{}'.format(fn)):\n",
    "        continue\n",
    "\n",
    "    data = pd.read_csv(os.path.join(PATH, fn))\n",
    "    X, y = pre_process(data)\n",
    "    \n",
    "    outliers_fraction = y.sum()/len(y)\n",
    "    classifiers = load_classifiers(outliers_fraction)\n",
    "    \n",
    "    all_scores = {}\n",
    "    for i, (name, clf) in enumerate(classifiers.items()):\n",
    "        try:\n",
    "            clf.fit(X)\n",
    "            y_pred = clf.predict(X)\n",
    "\n",
    "            scores = []\n",
    "            scores.append(roc_auc_score(y, y_pred))\n",
    "            scores.append(f1_score(y, y_pred))\n",
    "            scores.append(precision_score(y, y_pred))\n",
    "            scores.append(recall_score(y, y_pred))\n",
    "            all_scores[name] = scores\n",
    "        except Exception as e:\n",
    "            pass\n",
    "\n",
    "    with open('result/{}'.format(fn), 'wb') as f:\n",
    "        pickle.dump(all_scores, f,0)"
   ]
  },
  {
   "cell_type": "markdown",
   "metadata": {},
   "source": [
    "## 5.对结果进行分析\n",
    "计算每个分类器的平均指标，对比查看最优的分类器\n",
    "### 5.1 abalone数据集\n",
    "#### 读取生成的结果"
   ]
  },
  {
   "cell_type": "code",
   "execution_count": 9,
   "metadata": {},
   "outputs": [],
   "source": [
    "PATH1 = \"AbaResult\"\n",
    "fns1 = os.listdir(PATH1)"
   ]
  },
  {
   "cell_type": "code",
   "execution_count": 10,
   "metadata": {},
   "outputs": [],
   "source": [
    "abaresult=[]"
   ]
  },
  {
   "cell_type": "code",
   "execution_count": 11,
   "metadata": {},
   "outputs": [],
   "source": [
    "for i in range(len(fns1)):\n",
    "    try:\n",
    "        fn = fns1[i]\n",
    "        with open(os.path.join('AbaResult', fn), 'rb') as f:\n",
    "            score = pickle.load(f)\n",
    "        \n",
    "        for k, v in score.items():\n",
    "            row = [fn, k] + v\n",
    "            abaresult.append(row)\n",
    "    except Exception as e:\n",
    "        pass"
   ]
  },
  {
   "cell_type": "code",
   "execution_count": 12,
   "metadata": {},
   "outputs": [],
   "source": [
    "abaresult = pd.DataFrame(abaresult, columns=['filename', 'models', 'roc', 'f1_score', 'precision', 'recall'])\n",
    "abaresult.to_csv('Abaloneresult.csv', index=False)"
   ]
  },
  {
   "cell_type": "markdown",
   "metadata": {},
   "source": [
    "#### 查看各指标的直方图"
   ]
  },
  {
   "cell_type": "code",
   "execution_count": 39,
   "metadata": {},
   "outputs": [
    {
     "data": {
      "text/plain": [
       "<matplotlib.axes._subplots.AxesSubplot at 0x219dfed1ac8>"
      ]
     },
     "execution_count": 39,
     "metadata": {},
     "output_type": "execute_result"
    },
    {
     "data": {
      "image/png": "[encoded data removed]",
      "text/plain": [
       "<Figure size 432x288 with 1 Axes>"
      ]
     },
     "metadata": {
      "needs_background": "light"
     },
     "output_type": "display_data"
    }
   ],
   "source": [
    "abaresult.roc.plot(kind='hist')"
   ]
  },
  {
   "cell_type": "markdown",
   "metadata": {},
   "source": [
    "roc值主要分布于0.5到0.6之间\n",
    "\n",
    "f1值，准确率和召回率都比较低"
   ]
  },
  {
   "cell_type": "code",
   "execution_count": 40,
   "metadata": {},
   "outputs": [
    {
     "data": {
      "text/plain": [
       "<matplotlib.axes._subplots.AxesSubplot at 0x219dff22888>"
      ]
     },
     "execution_count": 40,
     "metadata": {},
     "output_type": "execute_result"
    },
    {
     "data": {
      "image/png": "[encoded data removed]",
      "text/plain": [
       "<Figure size 432x288 with 1 Axes>"
      ]
     },
     "metadata": {
      "needs_background": "light"
     },
     "output_type": "display_data"
    }
   ],
   "source": [
    "abaresult.f1_score.plot(kind='hist')"
   ]
  },
  {
   "cell_type": "code",
   "execution_count": 41,
   "metadata": {},
   "outputs": [
    {
     "data": {
      "text/plain": [
       "<matplotlib.axes._subplots.AxesSubplot at 0x219e003a508>"
      ]
     },
     "execution_count": 41,
     "metadata": {},
     "output_type": "execute_result"
    },
    {
     "data": {
      "image/png": "[encoded data removed]",
      "text/plain": [
       "<Figure size 432x288 with 1 Axes>"
      ]
     },
     "metadata": {
      "needs_background": "light"
     },
     "output_type": "display_data"
    }
   ],
   "source": [
    "abaresult.precision.plot(kind='hist')"
   ]
  },
  {
   "cell_type": "code",
   "execution_count": 42,
   "metadata": {},
   "outputs": [
    {
     "data": {
      "text/plain": [
       "<matplotlib.axes._subplots.AxesSubplot at 0x219e00bb048>"
      ]
     },
     "execution_count": 42,
     "metadata": {},
     "output_type": "execute_result"
    },
    {
     "data": {
      "image/png": "[encoded data removed]",
      "text/plain": [
       "<Figure size 432x288 with 1 Axes>"
      ]
     },
     "metadata": {
      "needs_background": "light"
     },
     "output_type": "display_data"
    }
   ],
   "source": [
    "abaresult.recall.plot(kind='hist')"
   ]
  },
  {
   "cell_type": "markdown",
   "metadata": {},
   "source": [
    "#### 对比查看模型的指标平均值"
   ]
  },
  {
   "cell_type": "code",
   "execution_count": 15,
   "metadata": {},
   "outputs": [
    {
     "data": {
      "text/plain": [
       "<matplotlib.axes._subplots.AxesSubplot at 0x219b8bea2c8>"
      ]
     },
     "execution_count": 15,
     "metadata": {},
     "output_type": "execute_result"
    },
    {
     "data": {
      "image/png": "[encoded data removed]",
      "text/plain": [
       "<Figure size 720x504 with 1 Axes>"
      ]
     },
     "metadata": {
      "needs_background": "light"
     },
     "output_type": "display_data"
    }
   ],
   "source": [
    "# 计算每个模型在所有文件上的指标平均值\n",
    "roc1 = abaresult.groupby('models')['roc', 'f1_score', 'precision', 'recall'].apply(lambda x: x.mean())\n",
    "# 按ROC值排序\n",
    "roc1 = roc1.sort_values(by='roc')\n",
    "\n",
    "roc1.plot.barh(figsize=(10, 7))"
   ]
  },
  {
   "cell_type": "code",
   "execution_count": 16,
   "metadata": {},
   "outputs": [
    {
     "data": {
      "text/html": [
       "<div>\n",
       "<style scoped>\n",
       "    .dataframe tbody tr th:only-of-type {\n",
       "        vertical-align: middle;\n",
       "    }\n",
       "\n",
       "    .dataframe tbody tr th {\n",
       "        vertical-align: top;\n",
       "    }\n",
       "\n",
       "    .dataframe thead th {\n",
       "        text-align: right;\n",
       "    }\n",
       "</style>\n",
       "<table border=\"1\" class=\"dataframe\">\n",
       "  <thead>\n",
       "    <tr style=\"text-align: right;\">\n",
       "      <th></th>\n",
       "      <th>roc</th>\n",
       "      <th>f1_score</th>\n",
       "      <th>precision</th>\n",
       "      <th>recall</th>\n",
       "    </tr>\n",
       "    <tr>\n",
       "      <th>models</th>\n",
       "      <th></th>\n",
       "      <th></th>\n",
       "      <th></th>\n",
       "      <th></th>\n",
       "    </tr>\n",
       "  </thead>\n",
       "  <tbody>\n",
       "    <tr>\n",
       "      <td>Average KNN</td>\n",
       "      <td>0.534565</td>\n",
       "      <td>0.121323</td>\n",
       "      <td>0.255975</td>\n",
       "      <td>0.089372</td>\n",
       "    </tr>\n",
       "    <tr>\n",
       "      <td>Local Outlier Factor (LOF)</td>\n",
       "      <td>0.535390</td>\n",
       "      <td>0.173840</td>\n",
       "      <td>0.179254</td>\n",
       "      <td>0.169134</td>\n",
       "    </tr>\n",
       "    <tr>\n",
       "      <td>Feature Bagging</td>\n",
       "      <td>0.543682</td>\n",
       "      <td>0.189509</td>\n",
       "      <td>0.196066</td>\n",
       "      <td>0.183772</td>\n",
       "    </tr>\n",
       "    <tr>\n",
       "      <td>Cluster-based Local Outlier Factor (CBLOF)</td>\n",
       "      <td>0.556349</td>\n",
       "      <td>0.209987</td>\n",
       "      <td>0.210293</td>\n",
       "      <td>0.209687</td>\n",
       "    </tr>\n",
       "    <tr>\n",
       "      <td>One-class SVM (OCSVM)</td>\n",
       "      <td>0.561029</td>\n",
       "      <td>0.224184</td>\n",
       "      <td>0.224477</td>\n",
       "      <td>0.223899</td>\n",
       "    </tr>\n",
       "    <tr>\n",
       "      <td>Angle-based Outlier Detector (ABOD)</td>\n",
       "      <td>0.563670</td>\n",
       "      <td>0.212401</td>\n",
       "      <td>0.198295</td>\n",
       "      <td>0.234193</td>\n",
       "    </tr>\n",
       "    <tr>\n",
       "      <td>K Nearest Neighbors (KNN)</td>\n",
       "      <td>0.565099</td>\n",
       "      <td>0.220015</td>\n",
       "      <td>0.235920</td>\n",
       "      <td>0.206696</td>\n",
       "    </tr>\n",
       "    <tr>\n",
       "      <td>Isolation Forest</td>\n",
       "      <td>0.575406</td>\n",
       "      <td>0.254883</td>\n",
       "      <td>0.255160</td>\n",
       "      <td>0.254613</td>\n",
       "    </tr>\n",
       "    <tr>\n",
       "      <td>Principal Component Analysis (PCA)</td>\n",
       "      <td>0.579931</td>\n",
       "      <td>0.262735</td>\n",
       "      <td>0.263015</td>\n",
       "      <td>0.262462</td>\n",
       "    </tr>\n",
       "    <tr>\n",
       "      <td>Histogram-base Outlier Detection (HBOS)</td>\n",
       "      <td>0.592903</td>\n",
       "      <td>0.281929</td>\n",
       "      <td>0.282660</td>\n",
       "      <td>0.281242</td>\n",
       "    </tr>\n",
       "    <tr>\n",
       "      <td>Minimum Covariance Determinant (MCD)</td>\n",
       "      <td>0.625567</td>\n",
       "      <td>0.321218</td>\n",
       "      <td>0.321629</td>\n",
       "      <td>0.320817</td>\n",
       "    </tr>\n",
       "  </tbody>\n",
       "</table>\n",
       "</div>"
      ],
      "text/plain": [
       "                                                 roc  f1_score  precision  \\\n",
       "models                                                                      \n",
       "Average KNN                                 0.534565  0.121323   0.255975   \n",
       "Local Outlier Factor (LOF)                  0.535390  0.173840   0.179254   \n",
       "Feature Bagging                             0.543682  0.189509   0.196066   \n",
       "Cluster-based Local Outlier Factor (CBLOF)  0.556349  0.209987   0.210293   \n",
       "One-class SVM (OCSVM)                       0.561029  0.224184   0.224477   \n",
       "Angle-based Outlier Detector (ABOD)         0.563670  0.212401   0.198295   \n",
       "K Nearest Neighbors (KNN)                   0.565099  0.220015   0.235920   \n",
       "Isolation Forest                            0.575406  0.254883   0.255160   \n",
       "Principal Component Analysis (PCA)          0.579931  0.262735   0.263015   \n",
       "Histogram-base Outlier Detection (HBOS)     0.592903  0.281929   0.282660   \n",
       "Minimum Covariance Determinant (MCD)        0.625567  0.321218   0.321629   \n",
       "\n",
       "                                              recall  \n",
       "models                                                \n",
       "Average KNN                                 0.089372  \n",
       "Local Outlier Factor (LOF)                  0.169134  \n",
       "Feature Bagging                             0.183772  \n",
       "Cluster-based Local Outlier Factor (CBLOF)  0.209687  \n",
       "One-class SVM (OCSVM)                       0.223899  \n",
       "Angle-based Outlier Detector (ABOD)         0.234193  \n",
       "K Nearest Neighbors (KNN)                   0.206696  \n",
       "Isolation Forest                            0.254613  \n",
       "Principal Component Analysis (PCA)          0.262462  \n",
       "Histogram-base Outlier Detection (HBOS)     0.281242  \n",
       "Minimum Covariance Determinant (MCD)        0.320817  "
      ]
     },
     "execution_count": 16,
     "metadata": {},
     "output_type": "execute_result"
    }
   ],
   "source": [
    "roc1"
   ]
  },
  {
   "cell_type": "markdown",
   "metadata": {},
   "source": [
    "#### 分析：\n",
    "1. 从roc角度来看，大部分方法都处于0.50到0.60之间，Minimum Covariance Determinant获得了最好的效果，达到了0.62。\n",
    "2. 从准确率、召回率和F1值来看，各个方法的效果都不是很理想\n",
    "3. 总的来说，Minimum Covariance Determinant和Histogram-base Outlier Detection的方法在Abalone数据集上取得相对较好的效果。\n",
    "4. 所有的离群点分析方法效果都比较差的原因可能是在数据处理时丢弃掉original.label和diff.score，数据特征较少"
   ]
  },
  {
   "cell_type": "markdown",
   "metadata": {},
   "source": [
    "### 5.2skin数据集\n",
    "#### 读取生成的结果"
   ]
  },
  {
   "cell_type": "code",
   "execution_count": 27,
   "metadata": {},
   "outputs": [],
   "source": [
    "PATH2 = \"skinResult\"\n",
    "fns2 = os.listdir(PATH2)\n",
    "skinresult=[]"
   ]
  },
  {
   "cell_type": "code",
   "execution_count": 29,
   "metadata": {},
   "outputs": [],
   "source": [
    "for i in range(len(fns2)):\n",
    "    try:\n",
    "        fn = fns2[i]\n",
    "        with open(os.path.join('skinResult', fn), 'rb') as f:\n",
    "            score = pickle.load(f)\n",
    "        \n",
    "        for k, v in score.items():\n",
    "            row = [fn, k] + v\n",
    "            skinresult.append(row)\n",
    "    except Exception as e:\n",
    "        pass"
   ]
  },
  {
   "cell_type": "code",
   "execution_count": 30,
   "metadata": {},
   "outputs": [],
   "source": [
    "skinresult = pd.DataFrame(skinresult, columns=['filename', 'models', 'roc', 'f1_score', 'precision', 'recall'])\n",
    "skinresult.to_csv('Skinresult.csv', index=False)"
   ]
  },
  {
   "cell_type": "markdown",
   "metadata": {},
   "source": [
    "#### 查看各指标的直方图"
   ]
  },
  {
   "cell_type": "code",
   "execution_count": 38,
   "metadata": {},
   "outputs": [
    {
     "data": {
      "text/plain": [
       "<matplotlib.axes._subplots.AxesSubplot at 0x219dfe3c908>"
      ]
     },
     "execution_count": 38,
     "metadata": {},
     "output_type": "execute_result"
    },
    {
     "data": {
      "image/png": "[encoded data removed]",
      "text/plain": [
       "<Figure size 432x288 with 1 Axes>"
      ]
     },
     "metadata": {
      "needs_background": "light"
     },
     "output_type": "display_data"
    }
   ],
   "source": [
    "skinresult.roc.plot(kind='hist')"
   ]
  },
  {
   "cell_type": "markdown",
   "metadata": {},
   "source": [
    "roc值主要分布于0.5左右\n",
    "\n",
    "f1值，准确率和召回率都比较低"
   ]
  },
  {
   "cell_type": "code",
   "execution_count": 44,
   "metadata": {},
   "outputs": [
    {
     "data": {
      "text/plain": [
       "<matplotlib.axes._subplots.AxesSubplot at 0x219e00c6808>"
      ]
     },
     "execution_count": 44,
     "metadata": {},
     "output_type": "execute_result"
    },
    {
     "data": {
      "image/png": "[encoded data removed]",
      "text/plain": [
       "<Figure size 432x288 with 1 Axes>"
      ]
     },
     "metadata": {
      "needs_background": "light"
     },
     "output_type": "display_data"
    }
   ],
   "source": [
    "skinresult.f1_score.plot(kind='hist')"
   ]
  },
  {
   "cell_type": "code",
   "execution_count": 45,
   "metadata": {},
   "outputs": [
    {
     "data": {
      "text/plain": [
       "<matplotlib.axes._subplots.AxesSubplot at 0x219e027e2c8>"
      ]
     },
     "execution_count": 45,
     "metadata": {},
     "output_type": "execute_result"
    },
    {
     "data": {
      "image/png": "[encoded data removed]",
      "text/plain": [
       "<Figure size 432x288 with 1 Axes>"
      ]
     },
     "metadata": {
      "needs_background": "light"
     },
     "output_type": "display_data"
    }
   ],
   "source": [
    "skinresult.precision.plot(kind='hist')"
   ]
  },
  {
   "cell_type": "code",
   "execution_count": 46,
   "metadata": {},
   "outputs": [
    {
     "data": {
      "text/plain": [
       "<matplotlib.axes._subplots.AxesSubplot at 0x219e01493c8>"
      ]
     },
     "execution_count": 46,
     "metadata": {},
     "output_type": "execute_result"
    },
    {
     "data": {
      "image/png": "[encoded data removed]",
      "text/plain": [
       "<Figure size 432x288 with 1 Axes>"
      ]
     },
     "metadata": {
      "needs_background": "light"
     },
     "output_type": "display_data"
    }
   ],
   "source": [
    "skinresult.recall.plot(kind='hist')"
   ]
  },
  {
   "cell_type": "markdown",
   "metadata": {},
   "source": [
    "#### 对比查看模型的指标平均值"
   ]
  },
  {
   "cell_type": "code",
   "execution_count": 32,
   "metadata": {},
   "outputs": [
    {
     "data": {
      "text/plain": [
       "<matplotlib.axes._subplots.AxesSubplot at 0x219b8cbcd88>"
      ]
     },
     "execution_count": 32,
     "metadata": {},
     "output_type": "execute_result"
    },
    {
     "data": {
      "image/png": "[encoded data removed]",
      "text/plain": [
       "<Figure size 720x504 with 1 Axes>"
      ]
     },
     "metadata": {
      "needs_background": "light"
     },
     "output_type": "display_data"
    }
   ],
   "source": [
    "# 计算每个模型在所有文件上的指标平均值\n",
    "roc2 = skinresult.groupby('models')['roc', 'f1_score', 'precision', 'recall'].apply(lambda x: x.mean())\n",
    "# 按ROC值排序\n",
    "roc2 = roc2.sort_values(by='roc')\n",
    "\n",
    "roc2.plot.barh(figsize=(10, 7))"
   ]
  },
  {
   "cell_type": "code",
   "execution_count": 33,
   "metadata": {},
   "outputs": [
    {
     "data": {
      "text/html": [
       "<div>\n",
       "<style scoped>\n",
       "    .dataframe tbody tr th:only-of-type {\n",
       "        vertical-align: middle;\n",
       "    }\n",
       "\n",
       "    .dataframe tbody tr th {\n",
       "        vertical-align: top;\n",
       "    }\n",
       "\n",
       "    .dataframe thead th {\n",
       "        text-align: right;\n",
       "    }\n",
       "</style>\n",
       "<table border=\"1\" class=\"dataframe\">\n",
       "  <thead>\n",
       "    <tr style=\"text-align: right;\">\n",
       "      <th></th>\n",
       "      <th>roc</th>\n",
       "      <th>f1_score</th>\n",
       "      <th>precision</th>\n",
       "      <th>recall</th>\n",
       "    </tr>\n",
       "    <tr>\n",
       "      <th>models</th>\n",
       "      <th></th>\n",
       "      <th></th>\n",
       "      <th></th>\n",
       "      <th></th>\n",
       "    </tr>\n",
       "  </thead>\n",
       "  <tbody>\n",
       "    <tr>\n",
       "      <td>Local Outlier Factor (LOF)</td>\n",
       "      <td>0.479566</td>\n",
       "      <td>0.052245</td>\n",
       "      <td>0.057698</td>\n",
       "      <td>0.048218</td>\n",
       "    </tr>\n",
       "    <tr>\n",
       "      <td>Isolation Forest</td>\n",
       "      <td>0.481245</td>\n",
       "      <td>0.060463</td>\n",
       "      <td>0.063988</td>\n",
       "      <td>0.057964</td>\n",
       "    </tr>\n",
       "    <tr>\n",
       "      <td>Average KNN</td>\n",
       "      <td>0.482383</td>\n",
       "      <td>0.020314</td>\n",
       "      <td>0.039400</td>\n",
       "      <td>0.015020</td>\n",
       "    </tr>\n",
       "    <tr>\n",
       "      <td>Feature Bagging</td>\n",
       "      <td>0.482421</td>\n",
       "      <td>0.056488</td>\n",
       "      <td>0.062928</td>\n",
       "      <td>0.051781</td>\n",
       "    </tr>\n",
       "    <tr>\n",
       "      <td>Principal Component Analysis (PCA)</td>\n",
       "      <td>0.483128</td>\n",
       "      <td>0.060119</td>\n",
       "      <td>0.064154</td>\n",
       "      <td>0.057258</td>\n",
       "    </tr>\n",
       "    <tr>\n",
       "      <td>One-class SVM (OCSVM)</td>\n",
       "      <td>0.484283</td>\n",
       "      <td>0.063548</td>\n",
       "      <td>0.067345</td>\n",
       "      <td>0.060857</td>\n",
       "    </tr>\n",
       "    <tr>\n",
       "      <td>K Nearest Neighbors (KNN)</td>\n",
       "      <td>0.484346</td>\n",
       "      <td>0.060606</td>\n",
       "      <td>0.069880</td>\n",
       "      <td>0.053897</td>\n",
       "    </tr>\n",
       "    <tr>\n",
       "      <td>Histogram-base Outlier Detection (HBOS)</td>\n",
       "      <td>0.486768</td>\n",
       "      <td>0.068156</td>\n",
       "      <td>0.072188</td>\n",
       "      <td>0.065285</td>\n",
       "    </tr>\n",
       "    <tr>\n",
       "      <td>Cluster-based Local Outlier Factor (CBLOF)</td>\n",
       "      <td>0.497022</td>\n",
       "      <td>0.078025</td>\n",
       "      <td>0.080730</td>\n",
       "      <td>0.076107</td>\n",
       "    </tr>\n",
       "    <tr>\n",
       "      <td>Angle-based Outlier Detector (ABOD)</td>\n",
       "      <td>0.497398</td>\n",
       "      <td>0.067432</td>\n",
       "      <td>0.065130</td>\n",
       "      <td>0.072920</td>\n",
       "    </tr>\n",
       "    <tr>\n",
       "      <td>Minimum Covariance Determinant (MCD)</td>\n",
       "      <td>0.497785</td>\n",
       "      <td>0.089630</td>\n",
       "      <td>0.092575</td>\n",
       "      <td>0.087542</td>\n",
       "    </tr>\n",
       "  </tbody>\n",
       "</table>\n",
       "</div>"
      ],
      "text/plain": [
       "                                                 roc  f1_score  precision  \\\n",
       "models                                                                      \n",
       "Local Outlier Factor (LOF)                  0.479566  0.052245   0.057698   \n",
       "Isolation Forest                            0.481245  0.060463   0.063988   \n",
       "Average KNN                                 0.482383  0.020314   0.039400   \n",
       "Feature Bagging                             0.482421  0.056488   0.062928   \n",
       "Principal Component Analysis (PCA)          0.483128  0.060119   0.064154   \n",
       "One-class SVM (OCSVM)                       0.484283  0.063548   0.067345   \n",
       "K Nearest Neighbors (KNN)                   0.484346  0.060606   0.069880   \n",
       "Histogram-base Outlier Detection (HBOS)     0.486768  0.068156   0.072188   \n",
       "Cluster-based Local Outlier Factor (CBLOF)  0.497022  0.078025   0.080730   \n",
       "Angle-based Outlier Detector (ABOD)         0.497398  0.067432   0.065130   \n",
       "Minimum Covariance Determinant (MCD)        0.497785  0.089630   0.092575   \n",
       "\n",
       "                                              recall  \n",
       "models                                                \n",
       "Local Outlier Factor (LOF)                  0.048218  \n",
       "Isolation Forest                            0.057964  \n",
       "Average KNN                                 0.015020  \n",
       "Feature Bagging                             0.051781  \n",
       "Principal Component Analysis (PCA)          0.057258  \n",
       "One-class SVM (OCSVM)                       0.060857  \n",
       "K Nearest Neighbors (KNN)                   0.053897  \n",
       "Histogram-base Outlier Detection (HBOS)     0.065285  \n",
       "Cluster-based Local Outlier Factor (CBLOF)  0.076107  \n",
       "Angle-based Outlier Detector (ABOD)         0.072920  \n",
       "Minimum Covariance Determinant (MCD)        0.087542  "
      ]
     },
     "execution_count": 33,
     "metadata": {},
     "output_type": "execute_result"
    }
   ],
   "source": [
    "roc2"
   ]
  },
  {
   "cell_type": "markdown",
   "metadata": {},
   "source": [
    "#### 分析：\n",
    "1. 相较于Abalone数据集，skin数据集进行离群点分析的效果更差\n",
    "2. 从准确率、召回率和F1值来看，各个方法的效果都不是很理想，但根据两个实验，MCD的方法更适合离群点分析\n",
    "3. 针对Skin数据集，MCD/ABOD/CBLOF效果相近"
   ]
  }
 ],
 "metadata": {
  "kernelspec": {
   "display_name": "Python 3.7.4 64-bit ('tlow': conda)",
   "language": "python",
   "name": "python37464bittlowconda2b48fdffd7384479b5d88aca5844491f"
  },
  "language_info": {
   "codemirror_mode": {
    "name": "ipython",
    "version": 3
   },
   "file_extension": ".py",
   "mimetype": "text/x-python",
   "name": "python",
   "nbconvert_exporter": "python",
   "pygments_lexer": "ipython3",
   "version": "3.7.4"
  }
 },
 "nbformat": 4,
 "nbformat_minor": 4
}
